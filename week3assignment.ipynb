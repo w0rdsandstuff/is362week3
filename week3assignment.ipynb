{
 "cells": [
  {
   "cell_type": "code",
   "execution_count": 3,
   "id": "066f259f-7b61-4937-95ce-98528b7bb51f",
   "metadata": {},
   "outputs": [],
   "source": [
    "import pandas as pd\n",
    "cumulative_miles = pd.Series([55, 120, 180, 240])"
   ]
  },
  {
   "cell_type": "code",
   "execution_count": 5,
   "id": "72ec4587-3258-41f2-8e4b-ed82ca3b59ec",
   "metadata": {},
   "outputs": [
    {
     "data": {
      "text/plain": [
       "0     55\n",
       "1    120\n",
       "2    180\n",
       "3    240\n",
       "dtype: int64"
      ]
     },
     "execution_count": 5,
     "metadata": {},
     "output_type": "execute_result"
    }
   ],
   "source": [
    "cumulative_miles"
   ]
  },
  {
   "cell_type": "code",
   "execution_count": 9,
   "id": "e9e95776-3728-45bf-95e2-42a378b0b242",
   "metadata": {},
   "outputs": [
    {
     "name": "stdout",
     "output_type": "stream",
     "text": [
      "0    55\n",
      "1    65\n",
      "2    60\n",
      "3    60\n",
      "dtype: int64\n"
     ]
    }
   ],
   "source": [
    "daily_miles = []\n",
    "\n",
    "for i in range(len(cumulative_miles)):\n",
    "    if i == 0:\n",
    "        daily_miles.append(cumulative_miles[i])\n",
    "    else:\n",
    "        daily_miles.append(cumulative_miles[i] - cumulative_miles[i-1])\n",
    "\n",
    "daily_miles = pd.Series(daily_miles)\n",
    "\n",
    "# Print the result\n",
    "print(daily_miles)"
   ]
  },
  {
   "cell_type": "code",
   "execution_count": 11,
   "id": "dd691080-66e4-4463-b34d-475dcbebda56",
   "metadata": {},
   "outputs": [
    {
     "name": "stdout",
     "output_type": "stream",
     "text": [
      "   Cumulative Miles  Daily Miles\n",
      "0                55           55\n",
      "1               120           65\n",
      "2               180           60\n",
      "3               240           60\n"
     ]
    }
   ],
   "source": [
    "df = pd.DataFrame({\n",
    "    'Cumulative Miles': cumulative_miles,\n",
    "    'Daily Miles': daily_miles\n",
    "})\n",
    "print(df)"
   ]
  },
  {
   "cell_type": "code",
   "execution_count": null,
   "id": "117fd4d0-c895-4918-9204-24599d048cb8",
   "metadata": {},
   "outputs": [],
   "source": []
  }
 ],
 "metadata": {
  "kernelspec": {
   "display_name": "Python 3 (ipykernel)",
   "language": "python",
   "name": "python3"
  },
  "language_info": {
   "codemirror_mode": {
    "name": "ipython",
    "version": 3
   },
   "file_extension": ".py",
   "mimetype": "text/x-python",
   "name": "python",
   "nbconvert_exporter": "python",
   "pygments_lexer": "ipython3",
   "version": "3.12.4"
  }
 },
 "nbformat": 4,
 "nbformat_minor": 5
}
